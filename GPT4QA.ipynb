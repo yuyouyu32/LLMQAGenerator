{
 "cells": [
  {
   "cell_type": "code",
   "execution_count": 1,
   "metadata": {},
   "outputs": [],
   "source": [
    "from langchain.llms import AzureOpenAI\n",
    "from langchain.chat_models import AzureChatOpenAI, ChatOpenAI\n",
    "import openai\n",
    "from langchain.schema import HumanMessage\n",
    "from tqdm import tqdm\n",
    "import json\n",
    "\n",
    "prompt = \"You are chatbot conversation generator. You will generate questions and answers for the following context which people will most like to ask. The topic of question should randomly selected accross all context. You should not repeat with previous question. You should only return the data in JSONL format, where the key for each question in the dictionary is 'Q' and the key for the answer is 'A'. Here is the context: '{}' \"\n",
    "prompt_cn = \"您是聊天机器人对话生成器。您将为以下人们最有可能提出的上下文生成问题和答案。问题的主题应在所有上下文中随机选择，问题中不要出现人称代词，如'他'，'她'，'你'等，直接用全名称呼。您不应重复之前的问题。您应仅以JSONL格式返回数据，其中字典中每个问题的键是“Q”，答案的键是“A”。这是上下文内容：'{}'\"\n",
    "openaiazure_params = {\n",
    "    \"deployment_name\" : \"gpt4_8k\",\n",
    "    \"openai_api_base\" : \"https://lilithai-scus.openai.azure.com/\",\n",
    "    \"openai_api_version\" : \"2023-03-15-preview\",\n",
    "    \"openai_api_type\" : \"azure\",\n",
    "    \"openai_api_key\" : \"xxxx\",\n",
    "    \"temperature\": 0.5\n",
    "}\n",
    "llmazure = AzureChatOpenAI(**openaiazure_params)"
   ]
  },
  {
   "cell_type": "code",
   "execution_count": 2,
   "metadata": {},
   "outputs": [],
   "source": [
    "MAX_HERO = 5\n",
    "NEED_CONTENT = ['CVDes_Ori', 'HeroIntroduction_Ori', 'Description_Ori', 'GroupStory_Ori']\n",
    "with open('../StoryTranslate/data/hero_d_e.json', 'r') as file:\n",
    "    data = json.load(file)"
   ]
  },
  {
   "cell_type": "code",
   "execution_count": 3,
   "metadata": {},
   "outputs": [
    {
     "name": "stderr",
     "output_type": "stream",
     "text": [
      "  0%|          | 0/4 [00:00<?, ?it/s]"
     ]
    },
    {
     "name": "stdout",
     "output_type": "stream",
     "text": [
      "索尔 CVDes_Ori\n"
     ]
    },
    {
     "name": "stderr",
     "output_type": "stream",
     "text": [
      " 25%|██▌       | 1/4 [01:41<05:03, 101.33s/it]"
     ]
    },
    {
     "name": "stdout",
     "output_type": "stream",
     "text": [
      "索尔 HeroIntroduction_Ori\n"
     ]
    },
    {
     "name": "stderr",
     "output_type": "stream",
     "text": [
      " 50%|█████     | 2/4 [03:13<03:11, 95.78s/it] "
     ]
    },
    {
     "name": "stdout",
     "output_type": "stream",
     "text": [
      "索尔 Description_Ori\n"
     ]
    },
    {
     "name": "stderr",
     "output_type": "stream",
     "text": [
      " 75%|███████▌  | 3/4 [03:22<00:56, 56.22s/it]"
     ]
    },
    {
     "name": "stdout",
     "output_type": "stream",
     "text": [
      "索尔 GroupStory_Ori\n"
     ]
    },
    {
     "name": "stderr",
     "output_type": "stream",
     "text": [
      "100%|██████████| 4/4 [04:01<00:00, 60.40s/it]\n",
      "  0%|          | 0/4 [00:00<?, ?it/s]"
     ]
    },
    {
     "name": "stdout",
     "output_type": "stream",
     "text": [
      "西王母 CVDes_Ori\n"
     ]
    },
    {
     "name": "stderr",
     "output_type": "stream",
     "text": [
      " 25%|██▌       | 1/4 [00:55<02:45, 55.32s/it]"
     ]
    },
    {
     "name": "stdout",
     "output_type": "stream",
     "text": [
      "西王母 HeroIntroduction_Ori\n"
     ]
    },
    {
     "name": "stderr",
     "output_type": "stream",
     "text": [
      " 50%|█████     | 2/4 [01:50<01:50, 55.43s/it]"
     ]
    },
    {
     "name": "stdout",
     "output_type": "stream",
     "text": [
      "西王母 Description_Ori\n"
     ]
    },
    {
     "name": "stderr",
     "output_type": "stream",
     "text": [
      "100%|██████████| 4/4 [02:11<00:00, 32.92s/it]\n",
      "  0%|          | 0/4 [00:00<?, ?it/s]"
     ]
    },
    {
     "name": "stdout",
     "output_type": "stream",
     "text": [
      "努特 CVDes_Ori\n"
     ]
    },
    {
     "name": "stderr",
     "output_type": "stream",
     "text": [
      " 25%|██▌       | 1/4 [01:28<04:26, 88.86s/it]"
     ]
    },
    {
     "name": "stdout",
     "output_type": "stream",
     "text": [
      "努特 HeroIntroduction_Ori\n"
     ]
    },
    {
     "name": "stderr",
     "output_type": "stream",
     "text": [
      " 50%|█████     | 2/4 [02:03<01:54, 57.15s/it]"
     ]
    },
    {
     "name": "stdout",
     "output_type": "stream",
     "text": [
      "努特 Description_Ori\n"
     ]
    },
    {
     "name": "stderr",
     "output_type": "stream",
     "text": [
      " 75%|███████▌  | 3/4 [02:28<00:42, 42.44s/it]"
     ]
    },
    {
     "name": "stdout",
     "output_type": "stream",
     "text": [
      "努特 GroupStory_Ori\n"
     ]
    },
    {
     "name": "stderr",
     "output_type": "stream",
     "text": [
      "100%|██████████| 4/4 [04:00<00:00, 60.14s/it]\n",
      "  0%|          | 0/4 [00:00<?, ?it/s]"
     ]
    },
    {
     "name": "stdout",
     "output_type": "stream",
     "text": [
      "那夫特姆 CVDes_Ori\n"
     ]
    },
    {
     "name": "stderr",
     "output_type": "stream",
     "text": [
      " 25%|██▌       | 1/4 [01:30<04:30, 90.10s/it]"
     ]
    },
    {
     "name": "stdout",
     "output_type": "stream",
     "text": [
      "那夫特姆 HeroIntroduction_Ori\n"
     ]
    },
    {
     "name": "stderr",
     "output_type": "stream",
     "text": [
      " 50%|█████     | 2/4 [02:05<01:56, 58.14s/it]"
     ]
    },
    {
     "name": "stdout",
     "output_type": "stream",
     "text": [
      "那夫特姆 Description_Ori\n"
     ]
    },
    {
     "name": "stderr",
     "output_type": "stream",
     "text": [
      "100%|██████████| 4/4 [02:13<00:00, 33.41s/it]\n",
      "  0%|          | 0/4 [00:00<?, ?it/s]"
     ]
    },
    {
     "name": "stdout",
     "output_type": "stream",
     "text": [
      "阿图姆 CVDes_Ori\n"
     ]
    },
    {
     "name": "stderr",
     "output_type": "stream",
     "text": [
      " 25%|██▌       | 1/4 [01:10<03:32, 70.77s/it]"
     ]
    },
    {
     "name": "stdout",
     "output_type": "stream",
     "text": [
      "阿图姆 HeroIntroduction_Ori\n"
     ]
    },
    {
     "name": "stderr",
     "output_type": "stream",
     "text": [
      " 50%|█████     | 2/4 [02:01<01:58, 59.26s/it]"
     ]
    },
    {
     "name": "stdout",
     "output_type": "stream",
     "text": [
      "阿图姆 Description_Ori\n"
     ]
    },
    {
     "name": "stderr",
     "output_type": "stream",
     "text": [
      "100%|██████████| 4/4 [02:10<00:00, 32.70s/it]\n"
     ]
    }
   ],
   "source": [
    "for index, item in enumerate(data.keys()):\n",
    "    if index >= MAX_HERO: break\n",
    "    temp = data[item]\n",
    "    for key in tqdm(NEED_CONTENT):\n",
    "        if key in temp and temp[key]:\n",
    "            print(temp['Name_Ori'] + ' ' + key)\n",
    "            context = temp[key]\n",
    "            answer = llmazure([HumanMessage(content=prompt_cn.format(context))]).content.replace('\\n\\n', '\\n')\n",
    "            with open('./QA_cn.jsonl', 'a+') as file:\n",
    "                file.write(answer + '\\n')"
   ]
  }
 ],
 "metadata": {
  "kernelspec": {
   "display_name": "base",
   "language": "python",
   "name": "python3"
  },
  "language_info": {
   "codemirror_mode": {
    "name": "ipython",
    "version": 3
   },
   "file_extension": ".py",
   "mimetype": "text/x-python",
   "name": "python",
   "nbconvert_exporter": "python",
   "pygments_lexer": "ipython3",
   "version": "3.10.9"
  },
  "orig_nbformat": 4
 },
 "nbformat": 4,
 "nbformat_minor": 2
}
